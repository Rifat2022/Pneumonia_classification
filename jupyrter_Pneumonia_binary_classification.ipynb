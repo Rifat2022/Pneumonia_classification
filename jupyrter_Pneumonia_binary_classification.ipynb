{
 "cells": [
  {
   "cell_type": "code",
   "execution_count": 1,
   "id": "bcca1896",
   "metadata": {},
   "outputs": [],
   "source": [
    "# import the libraries as shown below\n",
    "\n",
    "from keras.layers import Input, Lambda, Dense, Flatten\n",
    "from keras.models import Model\n",
    "#from keras.applications.resnet50 import ResNet50\n",
    "from keras.applications.vgg16 import VGG16\n",
    "from keras.applications.vgg16 import preprocess_input\n",
    "from keras.preprocessing import image\n",
    "from keras.preprocessing.image import ImageDataGenerator\n",
    "from keras.models import Sequential\n",
    "import numpy as np\n",
    "from glob import glob\n",
    "import matplotlib.pyplot as plt"
   ]
  },
  {
   "cell_type": "code",
   "execution_count": 2,
   "id": "038ce891",
   "metadata": {},
   "outputs": [],
   "source": [
    "IMAGE_SIZE = [224, 224]\n",
    "\n",
    "train_path = 'F:\\\\Summer 2021\\\\cse465\\Pneumonia dataset\\\\chest_xray\\\\train'\n",
    "valid_path = 'F:\\\\Summer 2021\\\\cse465\\Pneumonia dataset\\\\chest_xray\\\\test'"
   ]
  },
  {
   "cell_type": "code",
   "execution_count": 3,
   "id": "f681fb44",
   "metadata": {},
   "outputs": [],
   "source": [
    "# Import the Vgg 16 library as shown below and add preprocessing layer to the front of VGG\n",
    "# Here we will be using imagenet weights\n",
    "\n",
    "vgg = VGG16(input_shape=IMAGE_SIZE + [3], weights='imagenet', include_top=False)"
   ]
  },
  {
   "cell_type": "code",
   "execution_count": 4,
   "id": "9c0c5d34",
   "metadata": {},
   "outputs": [],
   "source": [
    "for layer in vgg.layers:\n",
    "    layer.trainable = False"
   ]
  },
  {
   "cell_type": "code",
   "execution_count": 5,
   "id": "8772d999",
   "metadata": {},
   "outputs": [],
   "source": [
    "folders = glob('F:\\\\Summer 2021\\\\cse465\\Pneumonia dataset\\\\chest_xray\\\\train\\\\*')"
   ]
  },
  {
   "cell_type": "code",
   "execution_count": 6,
   "id": "03e3b7d4",
   "metadata": {},
   "outputs": [],
   "source": [
    "\n",
    "# our layers - you can add more if you want\n",
    "x = Flatten()(vgg.output)"
   ]
  },
  {
   "cell_type": "code",
   "execution_count": 7,
   "id": "f50a1d58",
   "metadata": {},
   "outputs": [],
   "source": [
    "\n",
    "prediction = Dense(len(folders), activation='softmax')(x)"
   ]
  },
  {
   "cell_type": "code",
   "execution_count": 8,
   "id": "d8b2599c",
   "metadata": {},
   "outputs": [],
   "source": [
    "model = Model(inputs=vgg.input, outputs=prediction)"
   ]
  },
  {
   "cell_type": "code",
   "execution_count": 9,
   "id": "5850009c",
   "metadata": {},
   "outputs": [
    {
     "name": "stdout",
     "output_type": "stream",
     "text": [
      "Model: \"model\"\n",
      "_________________________________________________________________\n",
      "Layer (type)                 Output Shape              Param #   \n",
      "=================================================================\n",
      "input_1 (InputLayer)         [(None, 224, 224, 3)]     0         \n",
      "_________________________________________________________________\n",
      "block1_conv1 (Conv2D)        (None, 224, 224, 64)      1792      \n",
      "_________________________________________________________________\n",
      "block1_conv2 (Conv2D)        (None, 224, 224, 64)      36928     \n",
      "_________________________________________________________________\n",
      "block1_pool (MaxPooling2D)   (None, 112, 112, 64)      0         \n",
      "_________________________________________________________________\n",
      "block2_conv1 (Conv2D)        (None, 112, 112, 128)     73856     \n",
      "_________________________________________________________________\n",
      "block2_conv2 (Conv2D)        (None, 112, 112, 128)     147584    \n",
      "_________________________________________________________________\n",
      "block2_pool (MaxPooling2D)   (None, 56, 56, 128)       0         \n",
      "_________________________________________________________________\n",
      "block3_conv1 (Conv2D)        (None, 56, 56, 256)       295168    \n",
      "_________________________________________________________________\n",
      "block3_conv2 (Conv2D)        (None, 56, 56, 256)       590080    \n",
      "_________________________________________________________________\n",
      "block3_conv3 (Conv2D)        (None, 56, 56, 256)       590080    \n",
      "_________________________________________________________________\n",
      "block3_pool (MaxPooling2D)   (None, 28, 28, 256)       0         \n",
      "_________________________________________________________________\n",
      "block4_conv1 (Conv2D)        (None, 28, 28, 512)       1180160   \n",
      "_________________________________________________________________\n",
      "block4_conv2 (Conv2D)        (None, 28, 28, 512)       2359808   \n",
      "_________________________________________________________________\n",
      "block4_conv3 (Conv2D)        (None, 28, 28, 512)       2359808   \n",
      "_________________________________________________________________\n",
      "block4_pool (MaxPooling2D)   (None, 14, 14, 512)       0         \n",
      "_________________________________________________________________\n",
      "block5_conv1 (Conv2D)        (None, 14, 14, 512)       2359808   \n",
      "_________________________________________________________________\n",
      "block5_conv2 (Conv2D)        (None, 14, 14, 512)       2359808   \n",
      "_________________________________________________________________\n",
      "block5_conv3 (Conv2D)        (None, 14, 14, 512)       2359808   \n",
      "_________________________________________________________________\n",
      "block5_pool (MaxPooling2D)   (None, 7, 7, 512)         0         \n",
      "_________________________________________________________________\n",
      "flatten (Flatten)            (None, 25088)             0         \n",
      "_________________________________________________________________\n",
      "dense (Dense)                (None, 2)                 50178     \n",
      "=================================================================\n",
      "Total params: 14,764,866\n",
      "Trainable params: 50,178\n",
      "Non-trainable params: 14,714,688\n",
      "_________________________________________________________________\n"
     ]
    }
   ],
   "source": [
    "model.summary()"
   ]
  },
  {
   "cell_type": "code",
   "execution_count": 10,
   "id": "0377827a",
   "metadata": {},
   "outputs": [],
   "source": [
    "# tell the model what cost and optimization method to use\n",
    "model.compile(\n",
    "  loss='categorical_crossentropy',\n",
    "  optimizer='adam',\n",
    "  metrics=['accuracy']\n",
    ")"
   ]
  },
  {
   "cell_type": "code",
   "execution_count": 11,
   "id": "ee0bcef4",
   "metadata": {},
   "outputs": [],
   "source": [
    "# Use the Image Data Generator to import the images from the dataset\n",
    "from keras.preprocessing.image import ImageDataGenerator\n",
    "\n",
    "train_datagen = ImageDataGenerator(rescale = 1./255,\n",
    "                                   shear_range = 0.2,\n",
    "                                   zoom_range = 0.2,\n",
    "                                   horizontal_flip = True)\n",
    "\n",
    "test_datagen = ImageDataGenerator(rescale = 1./255)"
   ]
  },
  {
   "cell_type": "code",
   "execution_count": 12,
   "id": "5fcbc0fa",
   "metadata": {},
   "outputs": [
    {
     "name": "stdout",
     "output_type": "stream",
     "text": [
      "Found 5216 images belonging to 2 classes.\n"
     ]
    }
   ],
   "source": [
    "# Make sure you provide the same target size as initialied for the image size\n",
    "training_set = train_datagen.flow_from_directory('F:\\\\Summer 2021\\\\cse465\\Pneumonia dataset\\\\chest_xray\\\\train',\n",
    "                                                 target_size = (224, 224),\n",
    "                                                 batch_size = 32,\n",
    "                                                 class_mode = 'categorical')"
   ]
  },
  {
   "cell_type": "code",
   "execution_count": 13,
   "id": "7fc9ce33",
   "metadata": {},
   "outputs": [
    {
     "name": "stdout",
     "output_type": "stream",
     "text": [
      "Found 624 images belonging to 2 classes.\n"
     ]
    }
   ],
   "source": [
    "test_set = test_datagen.flow_from_directory('F:\\\\Summer 2021\\\\cse465\\Pneumonia dataset\\\\chest_xray\\\\test',\n",
    "                                            target_size = (224, 224),\n",
    "                                            batch_size = 32,\n",
    "                                            class_mode = 'categorical')"
   ]
  },
  {
   "cell_type": "code",
   "execution_count": 14,
   "id": "7672fe95",
   "metadata": {},
   "outputs": [
    {
     "name": "stderr",
     "output_type": "stream",
     "text": [
      "c:\\users\\rifat hossain\\appdata\\local\\programs\\python\\python39\\lib\\site-packages\\keras\\engine\\training.py:1972: UserWarning: `Model.fit_generator` is deprecated and will be removed in a future version. Please use `Model.fit`, which supports generators.\n",
      "  warnings.warn('`Model.fit_generator` is deprecated and '\n"
     ]
    },
    {
     "name": "stdout",
     "output_type": "stream",
     "text": [
      "Epoch 1/5\n",
      "163/163 [==============================] - 1800s 11s/step - loss: 0.1741 - accuracy: 0.9327 - val_loss: 0.3265 - val_accuracy: 0.9006\n",
      "Epoch 2/5\n",
      "163/163 [==============================] - 1869s 11s/step - loss: 0.0994 - accuracy: 0.9620 - val_loss: 0.2730 - val_accuracy: 0.9071\n",
      "Epoch 3/5\n",
      "163/163 [==============================] - 1839s 11s/step - loss: 0.1064 - accuracy: 0.9624 - val_loss: 0.5109 - val_accuracy: 0.8622\n",
      "Epoch 4/5\n",
      "163/163 [==============================] - 1780s 11s/step - loss: 0.0907 - accuracy: 0.9640 - val_loss: 0.3541 - val_accuracy: 0.9054\n",
      "Epoch 5/5\n",
      "163/163 [==============================] - 1711s 11s/step - loss: 0.0714 - accuracy: 0.9739 - val_loss: 0.4571 - val_accuracy: 0.8317\n"
     ]
    }
   ],
   "source": [
    "# fit the model\n",
    "# Run the cell. It will take some time to execute\n",
    "r = model.fit_generator(\n",
    "  training_set,\n",
    "  validation_data=test_set,\n",
    "  epochs=5,\n",
    "  steps_per_epoch=len(training_set),\n",
    "  validation_steps=len(test_set)\n",
    ")"
   ]
  },
  {
   "cell_type": "code",
   "execution_count": 15,
   "id": "500ed5e1",
   "metadata": {
    "scrolled": true
   },
   "outputs": [
    {
     "data": {
      "image/png": "[encoded data removed]",
      "text/plain": [
       "<Figure size 432x288 with 1 Axes>"
      ]
     },
     "metadata": {
      "needs_background": "light"
     },
     "output_type": "display_data"
    },
    {
     "ename": "KeyError",
     "evalue": "'acc'",
     "output_type": "error",
     "traceback": [
      "\u001b[1;31m---------------------------------------------------------------------------\u001b[0m",
      "\u001b[1;31mKeyError\u001b[0m                                  Traceback (most recent call last)",
      "\u001b[1;32m<ipython-input-15-deae6c4c674e>\u001b[0m in \u001b[0;36m<module>\u001b[1;34m\u001b[0m\n\u001b[0;32m      7\u001b[0m \u001b[1;33m\u001b[0m\u001b[0m\n\u001b[0;32m      8\u001b[0m \u001b[1;31m# plot the accuracy\u001b[0m\u001b[1;33m\u001b[0m\u001b[1;33m\u001b[0m\u001b[1;33m\u001b[0m\u001b[0m\n\u001b[1;32m----> 9\u001b[1;33m \u001b[0mplt\u001b[0m\u001b[1;33m.\u001b[0m\u001b[0mplot\u001b[0m\u001b[1;33m(\u001b[0m\u001b[0mr\u001b[0m\u001b[1;33m.\u001b[0m\u001b[0mhistory\u001b[0m\u001b[1;33m[\u001b[0m\u001b[1;34m'acc'\u001b[0m\u001b[1;33m]\u001b[0m\u001b[1;33m,\u001b[0m \u001b[0mlabel\u001b[0m\u001b[1;33m=\u001b[0m\u001b[1;34m'train acc'\u001b[0m\u001b[1;33m)\u001b[0m\u001b[1;33m\u001b[0m\u001b[1;33m\u001b[0m\u001b[0m\n\u001b[0m\u001b[0;32m     10\u001b[0m \u001b[0mplt\u001b[0m\u001b[1;33m.\u001b[0m\u001b[0mplot\u001b[0m\u001b[1;33m(\u001b[0m\u001b[0mr\u001b[0m\u001b[1;33m.\u001b[0m\u001b[0mhistory\u001b[0m\u001b[1;33m[\u001b[0m\u001b[1;34m'val_acc'\u001b[0m\u001b[1;33m]\u001b[0m\u001b[1;33m,\u001b[0m \u001b[0mlabel\u001b[0m\u001b[1;33m=\u001b[0m\u001b[1;34m'val acc'\u001b[0m\u001b[1;33m)\u001b[0m\u001b[1;33m\u001b[0m\u001b[1;33m\u001b[0m\u001b[0m\n\u001b[0;32m     11\u001b[0m \u001b[0mplt\u001b[0m\u001b[1;33m.\u001b[0m\u001b[0mlegend\u001b[0m\u001b[1;33m(\u001b[0m\u001b[1;33m)\u001b[0m\u001b[1;33m\u001b[0m\u001b[1;33m\u001b[0m\u001b[0m\n",
      "\u001b[1;31mKeyError\u001b[0m: 'acc'"
     ]
    },
    {
     "data": {
      "text/plain": [
       "<Figure size 432x288 with 0 Axes>"
      ]
     },
     "metadata": {},
     "output_type": "display_data"
    }
   ],
   "source": [
    "# plot the loss\n",
    "plt.plot(r.history['loss'], label='train loss')\n",
    "plt.plot(r.history['val_loss'], label='val loss')\n",
    "plt.legend()\n",
    "plt.show()\n",
    "plt.savefig('LossVal_loss')\n",
    "\n",
    "# plot the accuracy\n",
    "plt.plot(r.history['accuracy'], label='train acc')\n",
    "plt.plot(r.history['val_acc'], label='val acc')\n",
    "plt.legend()\n",
    "plt.show()\n",
    "plt.savefig('AccVal_acc')"
   ]
  },
  {
   "cell_type": "code",
   "execution_count": null,
   "id": "be090c90",
   "metadata": {},
   "outputs": [],
   "source": [
    "#Implementing vgg19 model "
   ]
  },
  {
   "cell_type": "code",
   "execution_count": 16,
   "id": "4b9e706d",
   "metadata": {},
   "outputs": [],
   "source": [
    "from tensorflow.keras.layers import Input, Lambda, Dense, Flatten,Conv2D\n",
    "from tensorflow.keras.models import Model\n",
    "from tensorflow.keras.applications.vgg19 import VGG19\n",
    "from tensorflow.keras.applications.resnet50 import preprocess_input\n",
    "from tensorflow.keras.preprocessing import image\n",
    "from tensorflow.keras.preprocessing.image import ImageDataGenerator,load_img\n",
    "from tensorflow.keras.models import Sequential\n",
    "import numpy as np\n",
    "from glob import glob\n",
    "import matplotlib.pyplot as plt"
   ]
  },
  {
   "cell_type": "code",
   "execution_count": 17,
   "id": "27c43e5f",
   "metadata": {},
   "outputs": [],
   "source": [
    "IMAGE_SIZE = [224, 224]\n",
    "\n",
    "train_path = 'F:\\\\Summer 2021\\\\cse465\\Pneumonia dataset\\\\chest_xray\\\\train'\n",
    "valid_path = 'F:\\\\Summer 2021\\\\cse465\\Pneumonia dataset\\\\chest_xray\\\\test'"
   ]
  },
  {
   "cell_type": "code",
   "execution_count": 18,
   "id": "39a5dc47",
   "metadata": {},
   "outputs": [],
   "source": [
    "mobilnet = VGG19(input_shape=IMAGE_SIZE + [3], weights='imagenet', include_top=False)"
   ]
  },
  {
   "cell_type": "code",
   "execution_count": 19,
   "id": "1c16db57",
   "metadata": {},
   "outputs": [],
   "source": [
    "for layer in mobilnet.layers:\n",
    "    layer.trainable = False"
   ]
  },
  {
   "cell_type": "code",
   "execution_count": 20,
   "id": "add73b7a",
   "metadata": {},
   "outputs": [],
   "source": [
    "folders = glob('F:\\\\Summer 2021\\\\cse465\\Pneumonia dataset\\\\chest_xray\\\\train/*')"
   ]
  },
  {
   "cell_type": "code",
   "execution_count": 21,
   "id": "9e102ec9",
   "metadata": {},
   "outputs": [
    {
     "data": {
      "text/plain": [
       "['F:\\\\Summer 2021\\\\cse465\\\\Pneumonia dataset\\\\chest_xray\\\\train\\\\NORMAL',\n",
       " 'F:\\\\Summer 2021\\\\cse465\\\\Pneumonia dataset\\\\chest_xray\\\\train\\\\PNEUMONIA']"
      ]
     },
     "execution_count": 21,
     "metadata": {},
     "output_type": "execute_result"
    }
   ],
   "source": [
    "folders"
   ]
  },
  {
   "cell_type": "code",
   "execution_count": 22,
   "id": "f4a049c0",
   "metadata": {},
   "outputs": [],
   "source": [
    "x = Flatten()(mobilnet.output)"
   ]
  },
  {
   "cell_type": "code",
   "execution_count": 23,
   "id": "719cbf93",
   "metadata": {},
   "outputs": [],
   "source": [
    "prediction = Dense(len(folders), activation='softmax')(x)"
   ]
  },
  {
   "cell_type": "code",
   "execution_count": 24,
   "id": "7b74738a",
   "metadata": {},
   "outputs": [],
   "source": [
    "model = Model(inputs=mobilnet.input, outputs=prediction)"
   ]
  },
  {
   "cell_type": "code",
   "execution_count": 25,
   "id": "42712a94",
   "metadata": {},
   "outputs": [
    {
     "name": "stdout",
     "output_type": "stream",
     "text": [
      "Model: \"model_1\"\n",
      "_________________________________________________________________\n",
      "Layer (type)                 Output Shape              Param #   \n",
      "=================================================================\n",
      "input_2 (InputLayer)         [(None, 224, 224, 3)]     0         \n",
      "_________________________________________________________________\n",
      "block1_conv1 (Conv2D)        (None, 224, 224, 64)      1792      \n",
      "_________________________________________________________________\n",
      "block1_conv2 (Conv2D)        (None, 224, 224, 64)      36928     \n",
      "_________________________________________________________________\n",
      "block1_pool (MaxPooling2D)   (None, 112, 112, 64)      0         \n",
      "_________________________________________________________________\n",
      "block2_conv1 (Conv2D)        (None, 112, 112, 128)     73856     \n",
      "_________________________________________________________________\n",
      "block2_conv2 (Conv2D)        (None, 112, 112, 128)     147584    \n",
      "_________________________________________________________________\n",
      "block2_pool (MaxPooling2D)   (None, 56, 56, 128)       0         \n",
      "_________________________________________________________________\n",
      "block3_conv1 (Conv2D)        (None, 56, 56, 256)       295168    \n",
      "_________________________________________________________________\n",
      "block3_conv2 (Conv2D)        (None, 56, 56, 256)       590080    \n",
      "_________________________________________________________________\n",
      "block3_conv3 (Conv2D)        (None, 56, 56, 256)       590080    \n",
      "_________________________________________________________________\n",
      "block3_conv4 (Conv2D)        (None, 56, 56, 256)       590080    \n",
      "_________________________________________________________________\n",
      "block3_pool (MaxPooling2D)   (None, 28, 28, 256)       0         \n",
      "_________________________________________________________________\n",
      "block4_conv1 (Conv2D)        (None, 28, 28, 512)       1180160   \n",
      "_________________________________________________________________\n",
      "block4_conv2 (Conv2D)        (None, 28, 28, 512)       2359808   \n",
      "_________________________________________________________________\n",
      "block4_conv3 (Conv2D)        (None, 28, 28, 512)       2359808   \n",
      "_________________________________________________________________\n",
      "block4_conv4 (Conv2D)        (None, 28, 28, 512)       2359808   \n",
      "_________________________________________________________________\n",
      "block4_pool (MaxPooling2D)   (None, 14, 14, 512)       0         \n",
      "_________________________________________________________________\n",
      "block5_conv1 (Conv2D)        (None, 14, 14, 512)       2359808   \n",
      "_________________________________________________________________\n",
      "block5_conv2 (Conv2D)        (None, 14, 14, 512)       2359808   \n",
      "_________________________________________________________________\n",
      "block5_conv3 (Conv2D)        (None, 14, 14, 512)       2359808   \n",
      "_________________________________________________________________\n",
      "block5_conv4 (Conv2D)        (None, 14, 14, 512)       2359808   \n",
      "_________________________________________________________________\n",
      "block5_pool (MaxPooling2D)   (None, 7, 7, 512)         0         \n",
      "_________________________________________________________________\n",
      "flatten_1 (Flatten)          (None, 25088)             0         \n",
      "_________________________________________________________________\n",
      "dense_1 (Dense)              (None, 2)                 50178     \n",
      "=================================================================\n",
      "Total params: 20,074,562\n",
      "Trainable params: 50,178\n",
      "Non-trainable params: 20,024,384\n",
      "_________________________________________________________________\n"
     ]
    }
   ],
   "source": [
    "model.summary()"
   ]
  },
  {
   "cell_type": "code",
   "execution_count": 26,
   "id": "c8143570",
   "metadata": {},
   "outputs": [],
   "source": [
    "\n",
    "from tensorflow.keras.layers import MaxPooling2D"
   ]
  },
  {
   "cell_type": "code",
   "execution_count": 27,
   "id": "6b702218",
   "metadata": {},
   "outputs": [
    {
     "name": "stdout",
     "output_type": "stream",
     "text": [
      "Model: \"sequential\"\n",
      "_________________________________________________________________\n",
      "Layer (type)                 Output Shape              Param #   \n",
      "=================================================================\n",
      "conv2d (Conv2D)              (None, 224, 224, 16)      208       \n",
      "_________________________________________________________________\n",
      "max_pooling2d (MaxPooling2D) (None, 112, 112, 16)      0         \n",
      "_________________________________________________________________\n",
      "conv2d_1 (Conv2D)            (None, 112, 112, 32)      2080      \n",
      "_________________________________________________________________\n",
      "max_pooling2d_1 (MaxPooling2 (None, 56, 56, 32)        0         \n",
      "_________________________________________________________________\n",
      "conv2d_2 (Conv2D)            (None, 56, 56, 64)        8256      \n",
      "_________________________________________________________________\n",
      "max_pooling2d_2 (MaxPooling2 (None, 28, 28, 64)        0         \n",
      "_________________________________________________________________\n",
      "flatten_2 (Flatten)          (None, 50176)             0         \n",
      "_________________________________________________________________\n",
      "dense_2 (Dense)              (None, 500)               25088500  \n",
      "_________________________________________________________________\n",
      "dense_3 (Dense)              (None, 2)                 1002      \n",
      "=================================================================\n",
      "Total params: 25,100,046\n",
      "Trainable params: 25,100,046\n",
      "Non-trainable params: 0\n",
      "_________________________________________________________________\n"
     ]
    }
   ],
   "source": [
    "model=Sequential()\n",
    "model.add(Conv2D(filters=16,kernel_size=2,padding=\"same\",activation=\"relu\",input_shape=(224,224,3)))\n",
    "model.add(MaxPooling2D(pool_size=2))\n",
    "model.add(Conv2D(filters=32,kernel_size=2,padding=\"same\",activation =\"relu\"))\n",
    "model.add(MaxPooling2D(pool_size=2))\n",
    "model.add(Conv2D(filters=64,kernel_size=2,padding=\"same\",activation=\"relu\"))\n",
    "model.add(MaxPooling2D(pool_size=2))\n",
    "model.add(Flatten())\n",
    "model.add(Dense(500,activation=\"relu\"))\n",
    "model.add(Dense(2,activation=\"softmax\"))\n",
    "model.summary()"
   ]
  },
  {
   "cell_type": "code",
   "execution_count": 28,
   "id": "ff4a17d5",
   "metadata": {},
   "outputs": [],
   "source": [
    "model.compile(\n",
    "  loss='categorical_crossentropy',\n",
    "  optimizer='adam',\n",
    "  metrics=['accuracy']\n",
    ")"
   ]
  },
  {
   "cell_type": "code",
   "execution_count": 29,
   "id": "2c44b802",
   "metadata": {},
   "outputs": [],
   "source": [
    "# Use the Image Data Generator to import the images from the dataset\n",
    "from tensorflow.keras.preprocessing.image import ImageDataGenerator\n",
    "\n",
    "train_datagen = ImageDataGenerator(rescale = 1./255,\n",
    "                                   shear_range = 0.2,\n",
    "                                   zoom_range = 0.2,\n",
    "                                   horizontal_flip = True)\n",
    "\n",
    "test_datagen = ImageDataGenerator(rescale = 1./255)"
   ]
  },
  {
   "cell_type": "code",
   "execution_count": 30,
   "id": "c8e7cdd9",
   "metadata": {},
   "outputs": [
    {
     "name": "stdout",
     "output_type": "stream",
     "text": [
      "Found 5216 images belonging to 2 classes.\n"
     ]
    }
   ],
   "source": [
    "training_set = train_datagen.flow_from_directory('F:\\\\Summer 2021\\\\cse465\\Pneumonia dataset\\\\chest_xray\\\\train',\n",
    "                                                 target_size = (224, 224),\n",
    "                                                 batch_size = 32,\n",
    "                                                 class_mode = 'categorical')"
   ]
  },
  {
   "cell_type": "code",
   "execution_count": 31,
   "id": "35bddadb",
   "metadata": {},
   "outputs": [
    {
     "data": {
      "text/plain": [
       "<keras.preprocessing.image.DirectoryIterator at 0x1654c052310>"
      ]
     },
     "execution_count": 31,
     "metadata": {},
     "output_type": "execute_result"
    }
   ],
   "source": [
    "training_set"
   ]
  },
  {
   "cell_type": "code",
   "execution_count": 32,
   "id": "bc4492d8",
   "metadata": {},
   "outputs": [
    {
     "name": "stdout",
     "output_type": "stream",
     "text": [
      "Found 624 images belonging to 2 classes.\n"
     ]
    }
   ],
   "source": [
    "test_set = test_datagen.flow_from_directory('F:\\\\Summer 2021\\\\cse465\\Pneumonia dataset\\\\chest_xray\\\\Test',\n",
    "                                            target_size = (224, 224),\n",
    "                                            batch_size = 32,\n",
    "                                            class_mode = 'categorical')"
   ]
  },
  {
   "cell_type": "code",
   "execution_count": null,
   "id": "485b699d",
   "metadata": {},
   "outputs": [],
   "source": [
    "test_set"
   ]
  },
  {
   "cell_type": "code",
   "execution_count": 33,
   "id": "f89fcddc",
   "metadata": {},
   "outputs": [
    {
     "name": "stdout",
     "output_type": "stream",
     "text": [
      "Epoch 1/50\n",
      "163/163 [==============================] - 259s 2s/step - loss: 0.4018 - accuracy: 0.8533 - val_loss: 0.3657 - val_accuracy: 0.8798\n",
      "Epoch 2/50\n",
      "163/163 [==============================] - 258s 2s/step - loss: 0.1996 - accuracy: 0.9153 - val_loss: 0.5087 - val_accuracy: 0.8558\n",
      "Epoch 3/50\n",
      "163/163 [==============================] - 256s 2s/step - loss: 0.1746 - accuracy: 0.9333 - val_loss: 0.6043 - val_accuracy: 0.8173\n",
      "Epoch 4/50\n",
      "163/163 [==============================] - 248s 2s/step - loss: 0.1541 - accuracy: 0.9411 - val_loss: 0.5880 - val_accuracy: 0.8173\n",
      "Epoch 5/50\n",
      "163/163 [==============================] - 261s 2s/step - loss: 0.1349 - accuracy: 0.9469 - val_loss: 0.4610 - val_accuracy: 0.8622\n",
      "Epoch 6/50\n",
      "163/163 [==============================] - 266s 2s/step - loss: 0.1483 - accuracy: 0.9471 - val_loss: 0.7992 - val_accuracy: 0.8109\n",
      "Epoch 7/50\n",
      "163/163 [==============================] - 253s 2s/step - loss: 0.1213 - accuracy: 0.9525 - val_loss: 0.5569 - val_accuracy: 0.8718\n",
      "Epoch 8/50\n",
      "163/163 [==============================] - 263s 2s/step - loss: 0.1166 - accuracy: 0.9569 - val_loss: 0.5667 - val_accuracy: 0.8526\n",
      "Epoch 9/50\n",
      "163/163 [==============================] - 236s 1s/step - loss: 0.1068 - accuracy: 0.9584 - val_loss: 0.6469 - val_accuracy: 0.8189\n",
      "Epoch 10/50\n",
      "163/163 [==============================] - 236s 1s/step - loss: 0.1076 - accuracy: 0.9576 - val_loss: 0.3859 - val_accuracy: 0.8974\n",
      "Epoch 11/50\n",
      "163/163 [==============================] - 236s 1s/step - loss: 0.1029 - accuracy: 0.9617 - val_loss: 0.5590 - val_accuracy: 0.8397\n",
      "Epoch 12/50\n",
      "163/163 [==============================] - 236s 1s/step - loss: 0.1078 - accuracy: 0.9641 - val_loss: 0.4887 - val_accuracy: 0.8942\n",
      "Epoch 13/50\n",
      "163/163 [==============================] - 245s 2s/step - loss: 0.0999 - accuracy: 0.9622 - val_loss: 0.4877 - val_accuracy: 0.8798\n",
      "Epoch 14/50\n",
      "163/163 [==============================] - 238s 1s/step - loss: 0.1014 - accuracy: 0.9609 - val_loss: 0.4377 - val_accuracy: 0.8894\n",
      "Epoch 15/50\n",
      "163/163 [==============================] - 243s 1s/step - loss: 0.1008 - accuracy: 0.9634 - val_loss: 0.6111 - val_accuracy: 0.8686\n",
      "Epoch 16/50\n",
      "163/163 [==============================] - 236s 1s/step - loss: 0.0993 - accuracy: 0.9632 - val_loss: 0.4511 - val_accuracy: 0.8974\n",
      "Epoch 17/50\n",
      "163/163 [==============================] - 236s 1s/step - loss: 0.0952 - accuracy: 0.9655 - val_loss: 0.3507 - val_accuracy: 0.9231\n",
      "Epoch 18/50\n",
      "163/163 [==============================] - 234s 1s/step - loss: 0.0980 - accuracy: 0.9641 - val_loss: 0.5272 - val_accuracy: 0.8718\n",
      "Epoch 19/50\n",
      "163/163 [==============================] - 234s 1s/step - loss: 0.0833 - accuracy: 0.9716 - val_loss: 0.4737 - val_accuracy: 0.9087\n",
      "Epoch 20/50\n",
      "163/163 [==============================] - 234s 1s/step - loss: 0.0860 - accuracy: 0.9699 - val_loss: 0.4206 - val_accuracy: 0.9006\n",
      "Epoch 21/50\n",
      "163/163 [==============================] - 236s 1s/step - loss: 0.0772 - accuracy: 0.9722 - val_loss: 0.5102 - val_accuracy: 0.8878\n",
      "Epoch 22/50\n",
      "163/163 [==============================] - 238s 1s/step - loss: 0.0874 - accuracy: 0.9653 - val_loss: 0.4535 - val_accuracy: 0.9167\n",
      "Epoch 23/50\n",
      "163/163 [==============================] - 234s 1s/step - loss: 0.0808 - accuracy: 0.9709 - val_loss: 0.6131 - val_accuracy: 0.8638\n",
      "Epoch 24/50\n",
      "163/163 [==============================] - 234s 1s/step - loss: 0.0836 - accuracy: 0.9697 - val_loss: 0.5174 - val_accuracy: 0.9231\n",
      "Epoch 25/50\n",
      "163/163 [==============================] - 234s 1s/step - loss: 0.0731 - accuracy: 0.9695 - val_loss: 0.4644 - val_accuracy: 0.9167\n",
      "Epoch 26/50\n",
      "163/163 [==============================] - 234s 1s/step - loss: 0.0697 - accuracy: 0.9720 - val_loss: 0.6385 - val_accuracy: 0.9038\n",
      "Epoch 27/50\n",
      "163/163 [==============================] - 233s 1s/step - loss: 0.0811 - accuracy: 0.9680 - val_loss: 0.4354 - val_accuracy: 0.9167\n",
      "Epoch 28/50\n",
      "163/163 [==============================] - 234s 1s/step - loss: 0.0723 - accuracy: 0.9722 - val_loss: 0.6697 - val_accuracy: 0.8766\n",
      "Epoch 29/50\n",
      "163/163 [==============================] - 234s 1s/step - loss: 0.0679 - accuracy: 0.9764 - val_loss: 0.5646 - val_accuracy: 0.8862\n",
      "Epoch 30/50\n",
      "163/163 [==============================] - 237s 1s/step - loss: 0.0721 - accuracy: 0.9726 - val_loss: 0.8108 - val_accuracy: 0.8574\n",
      "Epoch 31/50\n",
      "163/163 [==============================] - 234s 1s/step - loss: 0.0661 - accuracy: 0.9743 - val_loss: 0.4098 - val_accuracy: 0.9279\n",
      "Epoch 32/50\n",
      "163/163 [==============================] - 234s 1s/step - loss: 0.0651 - accuracy: 0.9749 - val_loss: 0.7367 - val_accuracy: 0.8670\n",
      "Epoch 33/50\n",
      "163/163 [==============================] - 235s 1s/step - loss: 0.0658 - accuracy: 0.9745 - val_loss: 0.3645 - val_accuracy: 0.9247\n",
      "Epoch 34/50\n",
      "163/163 [==============================] - 234s 1s/step - loss: 0.0625 - accuracy: 0.9755 - val_loss: 0.7321 - val_accuracy: 0.8782\n",
      "Epoch 35/50\n",
      "163/163 [==============================] - 233s 1s/step - loss: 0.0657 - accuracy: 0.9753 - val_loss: 0.5386 - val_accuracy: 0.9087\n",
      "Epoch 36/50\n",
      "163/163 [==============================] - 235s 1s/step - loss: 0.0681 - accuracy: 0.9749 - val_loss: 0.6158 - val_accuracy: 0.9022\n",
      "Epoch 37/50\n",
      "163/163 [==============================] - 236s 1s/step - loss: 0.0658 - accuracy: 0.9766 - val_loss: 0.6390 - val_accuracy: 0.8926\n",
      "Epoch 38/50\n",
      "163/163 [==============================] - 235s 1s/step - loss: 0.0589 - accuracy: 0.9783 - val_loss: 0.6986 - val_accuracy: 0.8814\n",
      "Epoch 39/50\n",
      "163/163 [==============================] - 233s 1s/step - loss: 0.0540 - accuracy: 0.9808 - val_loss: 0.6837 - val_accuracy: 0.8894\n",
      "Epoch 40/50\n",
      "163/163 [==============================] - 233s 1s/step - loss: 0.0661 - accuracy: 0.9749 - val_loss: 0.4471 - val_accuracy: 0.9151\n",
      "Epoch 41/50\n",
      "163/163 [==============================] - 233s 1s/step - loss: 0.0574 - accuracy: 0.9766 - val_loss: 0.6298 - val_accuracy: 0.8974\n",
      "Epoch 42/50\n",
      "163/163 [==============================] - 234s 1s/step - loss: 0.0597 - accuracy: 0.9787 - val_loss: 0.6580 - val_accuracy: 0.8718\n",
      "Epoch 43/50\n",
      "163/163 [==============================] - 233s 1s/step - loss: 0.0542 - accuracy: 0.9787 - val_loss: 0.4865 - val_accuracy: 0.9167\n",
      "Epoch 44/50\n",
      "163/163 [==============================] - 234s 1s/step - loss: 0.0584 - accuracy: 0.9789 - val_loss: 0.9028 - val_accuracy: 0.8462\n",
      "Epoch 45/50\n",
      "163/163 [==============================] - 234s 1s/step - loss: 0.0588 - accuracy: 0.9787 - val_loss: 0.5977 - val_accuracy: 0.9119\n",
      "Epoch 46/50\n",
      "163/163 [==============================] - 233s 1s/step - loss: 0.0547 - accuracy: 0.9822 - val_loss: 0.6614 - val_accuracy: 0.8974\n",
      "Epoch 47/50\n",
      "163/163 [==============================] - 234s 1s/step - loss: 0.0611 - accuracy: 0.9774 - val_loss: 0.5146 - val_accuracy: 0.9135\n",
      "Epoch 48/50\n",
      "163/163 [==============================] - 234s 1s/step - loss: 0.0512 - accuracy: 0.9818 - val_loss: 0.5137 - val_accuracy: 0.9071\n",
      "Epoch 49/50\n",
      "163/163 [==============================] - 234s 1s/step - loss: 0.0475 - accuracy: 0.9826 - val_loss: 0.6055 - val_accuracy: 0.9006\n",
      "Epoch 50/50\n",
      "163/163 [==============================] - 233s 1s/step - loss: 0.0433 - accuracy: 0.9845 - val_loss: 0.9767 - val_accuracy: 0.8606\n"
     ]
    }
   ],
   "source": [
    "r = model.fit_generator(\n",
    "  training_set,\n",
    "  validation_data=test_set,\n",
    "  epochs=50,\n",
    "  steps_per_epoch=len(training_set),\n",
    "  validation_steps=len(test_set)\n",
    ")"
   ]
  },
  {
   "cell_type": "code",
   "execution_count": 34,
   "id": "3b7e3272",
   "metadata": {},
   "outputs": [
    {
     "data": {
      "image/png": "[encoded data removed]",
      "text/plain": [
       "<Figure size 432x288 with 1 Axes>"
      ]
     },
     "metadata": {
      "needs_background": "light"
     },
     "output_type": "display_data"
    },
    {
     "data": {
      "image/png": "[encoded data removed]",
      "text/plain": [
       "<Figure size 432x288 with 1 Axes>"
      ]
     },
     "metadata": {
      "needs_background": "light"
     },
     "output_type": "display_data"
    },
    {
     "data": {
      "text/plain": [
       "<Figure size 432x288 with 0 Axes>"
      ]
     },
     "metadata": {},
     "output_type": "display_data"
    }
   ],
   "source": [
    "# plot the loss\n",
    "plt.plot(r.history['loss'], label='train loss')\n",
    "plt.plot(r.history['val_loss'], label='val loss')\n",
    "plt.legend()\n",
    "plt.show()\n",
    "plt.savefig('LossVal_loss')\n",
    "\n",
    "# plot the accuracy\n",
    "plt.plot(r.history['accuracy'], label='train acc')\n",
    "plt.plot(r.history['val_accuracy'], label='val acc')\n",
    "plt.legend()\n",
    "plt.show()\n",
    "plt.savefig('AccVal_acc')"
   ]
  },
  {
   "cell_type": "code",
   "execution_count": 35,
   "id": "1ba964f8",
   "metadata": {},
   "outputs": [],
   "source": [
    "from tensorflow.keras.models import load_model\n",
    "\n",
    "model.save('model_vgg19.h5')"
   ]
  },
  {
   "cell_type": "code",
   "execution_count": 36,
   "id": "ba8ac32c",
   "metadata": {},
   "outputs": [],
   "source": [
    "y_pred = model.predict(test_set)"
   ]
  },
  {
   "cell_type": "code",
   "execution_count": 37,
   "id": "eb31e720",
   "metadata": {},
   "outputs": [
    {
     "data": {
      "text/plain": [
       "array([[3.1615911e-11, 1.0000000e+00],\n",
       "       [6.8876709e-08, 9.9999988e-01],\n",
       "       [9.4833338e-01, 5.1666681e-02],\n",
       "       ...,\n",
       "       [7.2650957e-01, 2.7349043e-01],\n",
       "       [9.9840015e-01, 1.5998535e-03],\n",
       "       [9.9147910e-01, 8.5209096e-03]], dtype=float32)"
      ]
     },
     "execution_count": 37,
     "metadata": {},
     "output_type": "execute_result"
    }
   ],
   "source": [
    "y_pred"
   ]
  },
  {
   "cell_type": "code",
   "execution_count": 38,
   "id": "c1789803",
   "metadata": {},
   "outputs": [],
   "source": [
    "\n",
    "import numpy as np\n",
    "y_pred = np.argmax(y_pred, axis=1)"
   ]
  },
  {
   "cell_type": "code",
   "execution_count": 39,
   "id": "9fd2cab8",
   "metadata": {},
   "outputs": [
    {
     "data": {
      "text/plain": [
       "array([1, 1, 0, 1, 0, 1, 1, 1, 1, 1, 1, 1, 1, 1, 1, 1, 1, 1, 1, 0, 1, 1,\n",
       "       0, 1, 1, 1, 1, 1, 1, 1, 0, 1, 1, 0, 0, 1, 1, 1, 1, 1, 0, 1, 1, 1,\n",
       "       0, 0, 1, 0, 1, 1, 1, 0, 1, 0, 1, 0, 1, 0, 1, 1, 0, 0, 1, 1, 1, 1,\n",
       "       1, 1, 1, 0, 0, 1, 1, 0, 1, 1, 1, 1, 1, 1, 1, 1, 1, 1, 1, 1, 1, 1,\n",
       "       1, 1, 0, 1, 1, 1, 1, 1, 0, 1, 1, 1, 0, 0, 1, 0, 1, 1, 1, 1, 1, 1,\n",
       "       1, 1, 0, 0, 1, 0, 0, 1, 1, 1, 0, 1, 1, 0, 1, 1, 1, 1, 1, 1, 1, 1,\n",
       "       1, 0, 1, 0, 1, 0, 1, 0, 1, 1, 1, 1, 1, 1, 1, 1, 1, 0, 0, 1, 0, 1,\n",
       "       1, 0, 1, 1, 1, 0, 1, 1, 0, 0, 1, 1, 1, 1, 1, 0, 1, 0, 1, 1, 1, 1,\n",
       "       1, 1, 1, 0, 0, 1, 1, 1, 1, 1, 1, 1, 0, 0, 1, 1, 1, 1, 1, 1, 1, 0,\n",
       "       0, 1, 1, 1, 1, 1, 0, 1, 1, 0, 0, 1, 1, 1, 1, 1, 1, 1, 1, 1, 1, 1,\n",
       "       1, 1, 0, 0, 0, 0, 1, 1, 1, 1, 1, 0, 1, 1, 1, 0, 1, 1, 0, 1, 0, 1,\n",
       "       0, 0, 1, 0, 0, 1, 1, 0, 1, 0, 0, 1, 1, 1, 0, 1, 0, 1, 1, 1, 1, 1,\n",
       "       1, 1, 0, 1, 1, 1, 1, 1, 1, 1, 0, 1, 1, 0, 1, 1, 0, 0, 1, 1, 0, 1,\n",
       "       0, 1, 1, 1, 0, 1, 1, 1, 1, 1, 0, 1, 0, 1, 0, 1, 1, 1, 1, 0, 0, 1,\n",
       "       0, 1, 1, 1, 1, 1, 1, 1, 1, 1, 1, 0, 1, 1, 0, 1, 0, 0, 1, 0, 1, 1,\n",
       "       1, 1, 1, 0, 0, 0, 1, 1, 1, 1, 1, 1, 1, 1, 0, 1, 1, 1, 0, 1, 0, 1,\n",
       "       1, 1, 1, 0, 1, 0, 1, 1, 1, 1, 1, 1, 1, 1, 0, 0, 0, 1, 1, 1, 1, 1,\n",
       "       1, 0, 1, 1, 1, 1, 1, 1, 0, 1, 1, 1, 1, 1, 0, 1, 1, 1, 0, 1, 1, 1,\n",
       "       1, 1, 0, 1, 1, 0, 0, 1, 1, 1, 0, 1, 1, 0, 1, 1, 0, 1, 1, 1, 1, 1,\n",
       "       1, 1, 1, 1, 1, 1, 1, 1, 1, 1, 1, 1, 1, 0, 1, 1, 1, 1, 1, 1, 1, 1,\n",
       "       1, 1, 1, 1, 0, 1, 1, 1, 1, 1, 1, 1, 1, 1, 1, 1, 1, 1, 1, 1, 0, 1,\n",
       "       1, 1, 1, 1, 1, 1, 0, 0, 1, 1, 1, 0, 0, 1, 1, 1, 0, 1, 1, 1, 1, 0,\n",
       "       1, 0, 1, 1, 0, 0, 0, 1, 0, 1, 1, 1, 1, 0, 0, 1, 1, 1, 1, 1, 1, 1,\n",
       "       1, 0, 0, 1, 0, 1, 1, 1, 0, 1, 1, 0, 1, 1, 1, 1, 1, 1, 1, 1, 1, 1,\n",
       "       0, 1, 0, 1, 1, 1, 0, 1, 1, 1, 1, 1, 1, 1, 0, 1, 1, 1, 1, 1, 1, 1,\n",
       "       1, 1, 1, 1, 0, 1, 1, 1, 1, 0, 0, 1, 1, 1, 0, 0, 0, 0, 1, 1, 0, 1,\n",
       "       1, 0, 1, 1, 1, 1, 1, 0, 1, 1, 1, 1, 1, 1, 1, 1, 1, 1, 0, 1, 0, 1,\n",
       "       1, 1, 0, 1, 1, 1, 1, 0, 1, 0, 1, 0, 1, 1, 1, 1, 0, 0, 1, 1, 1, 0,\n",
       "       1, 0, 1, 0, 1, 0, 0, 0], dtype=int64)"
      ]
     },
     "execution_count": 39,
     "metadata": {},
     "output_type": "execute_result"
    }
   ],
   "source": [
    "y_pred"
   ]
  },
  {
   "cell_type": "code",
   "execution_count": 40,
   "id": "70df101a",
   "metadata": {},
   "outputs": [],
   "source": [
    "from tensorflow.keras.models import load_model\n",
    "from tensorflow.keras.preprocessing import image"
   ]
  },
  {
   "cell_type": "code",
   "execution_count": 41,
   "id": "292e2f65",
   "metadata": {},
   "outputs": [],
   "source": [
    "model=load_model('model_vgg19.h5')"
   ]
  },
  {
   "cell_type": "code",
   "execution_count": 42,
   "id": "fd9ad5af",
   "metadata": {},
   "outputs": [],
   "source": [
    "img=image.load_img('F:\\\\Summer 2021\\\\cse465\\\\Pneumonia dataset\\\\chest_xray\\\\test\\\\PNEUMONIA\\\\person10_virus_35.jpeg',target_size=(224,224))"
   ]
  },
  {
   "cell_type": "code",
   "execution_count": 43,
   "id": "874679d4",
   "metadata": {},
   "outputs": [
    {
     "data": {
      "text/plain": [
       "array([[[ 63.,  63.,  63.],\n",
       "        [ 72.,  72.,  72.],\n",
       "        [ 98.,  98.,  98.],\n",
       "        ...,\n",
       "        [ 30.,  30.,  30.],\n",
       "        [ 42.,  42.,  42.],\n",
       "        [ 36.,  36.,  36.]],\n",
       "\n",
       "       [[ 69.,  69.,  69.],\n",
       "        [100., 100., 100.],\n",
       "        [100., 100., 100.],\n",
       "        ...,\n",
       "        [ 37.,  37.,  37.],\n",
       "        [ 33.,  33.,  33.],\n",
       "        [ 35.,  35.,  35.]],\n",
       "\n",
       "       [[ 86.,  86.,  86.],\n",
       "        [103., 103., 103.],\n",
       "        [101., 101., 101.],\n",
       "        ...,\n",
       "        [ 25.,  25.,  25.],\n",
       "        [ 28.,  28.,  28.],\n",
       "        [ 28.,  28.,  28.]],\n",
       "\n",
       "       ...,\n",
       "\n",
       "       [[ 42.,  42.,  42.],\n",
       "        [ 42.,  42.,  42.],\n",
       "        [ 41.,  41.,  41.],\n",
       "        ...,\n",
       "        [ 40.,  40.,  40.],\n",
       "        [ 40.,  40.,  40.],\n",
       "        [ 40.,  40.,  40.]],\n",
       "\n",
       "       [[ 42.,  42.,  42.],\n",
       "        [ 42.,  42.,  42.],\n",
       "        [ 41.,  41.,  41.],\n",
       "        ...,\n",
       "        [ 40.,  40.,  40.],\n",
       "        [ 40.,  40.,  40.],\n",
       "        [ 40.,  40.,  40.]],\n",
       "\n",
       "       [[ 42.,  42.,  42.],\n",
       "        [ 42.,  42.,  42.],\n",
       "        [ 41.,  41.,  41.],\n",
       "        ...,\n",
       "        [ 40.,  40.,  40.],\n",
       "        [ 40.,  40.,  40.],\n",
       "        [ 40.,  40.,  40.]]], dtype=float32)"
      ]
     },
     "execution_count": 43,
     "metadata": {},
     "output_type": "execute_result"
    }
   ],
   "source": [
    "x=image.img_to_array(img)\n",
    "x"
   ]
  },
  {
   "cell_type": "code",
   "execution_count": 44,
   "id": "27899545",
   "metadata": {},
   "outputs": [
    {
     "data": {
      "text/plain": [
       "(224, 224, 3)"
      ]
     },
     "execution_count": 44,
     "metadata": {},
     "output_type": "execute_result"
    }
   ],
   "source": [
    "x.shape"
   ]
  },
  {
   "cell_type": "code",
   "execution_count": 45,
   "id": "ed2b96c9",
   "metadata": {},
   "outputs": [],
   "source": [
    "x=x/255"
   ]
  },
  {
   "cell_type": "code",
   "execution_count": 46,
   "id": "1d1e5dd2",
   "metadata": {},
   "outputs": [
    {
     "data": {
      "text/plain": [
       "(1, 224, 224, 3)"
      ]
     },
     "execution_count": 46,
     "metadata": {},
     "output_type": "execute_result"
    }
   ],
   "source": [
    "x=np.expand_dims(x,axis=0)\n",
    "img_data=preprocess_input(x)\n",
    "img_data.shape"
   ]
  },
  {
   "cell_type": "code",
   "execution_count": 47,
   "id": "c94fd85a",
   "metadata": {},
   "outputs": [
    {
     "data": {
      "text/plain": [
       "array([[0., 1.]], dtype=float32)"
      ]
     },
     "execution_count": 47,
     "metadata": {},
     "output_type": "execute_result"
    }
   ],
   "source": [
    "model.predict(img_data)"
   ]
  },
  {
   "cell_type": "code",
   "execution_count": 48,
   "id": "856799c7",
   "metadata": {},
   "outputs": [],
   "source": [
    "a=np.argmax(model.predict(img_data), axis=1)"
   ]
  },
  {
   "cell_type": "code",
   "execution_count": 49,
   "id": "dbadc4ef",
   "metadata": {},
   "outputs": [
    {
     "name": "stdout",
     "output_type": "stream",
     "text": [
      "Uninfected\n"
     ]
    }
   ],
   "source": [
    "if(a==1):\n",
    "    print(\"Uninfected\")\n",
    "else:\n",
    "    print(\"Infected\")"
   ]
  },
  {
   "cell_type": "code",
   "execution_count": 50,
   "id": "d8295778",
   "metadata": {},
   "outputs": [
    {
     "name": "stdout",
     "output_type": "stream",
     "text": [
      "Uninfected\n"
     ]
    }
   ],
   "source": [
    "img=image.load_img('F:\\\\Summer 2021\\\\cse465\\\\Pneumonia dataset\\\\chest_xray\\\\test\\\\NORMAL\\\\IM-0019-0001.jpeg',target_size=(224,224))\n",
    "x=image.img_to_array(img)\n",
    "x=x/255\n",
    "x=np.expand_dims(x,axis=0)\n",
    "img_data=preprocess_input(x)\n",
    "model.predict(img_data)\n",
    "a=np.argmax(model.predict(img_data), axis=1)\n",
    "if(a==1):\n",
    "    print(\"Uninfected\")\n",
    "else:\n",
    "    print(\"Infected\")"
   ]
  },
  {
   "cell_type": "code",
   "execution_count": 51,
   "id": "ab30c050",
   "metadata": {},
   "outputs": [
    {
     "name": "stdout",
     "output_type": "stream",
     "text": [
      "Uninfected\n"
     ]
    }
   ],
   "source": [
    "img=image.load_img('F:\\\\Summer 2021\\\\cse465\\\\Pneumonia dataset\\\\chest_xray\\\\val\\\\PNEUMONIA\\\\person1952_bacteria_4883.jpeg',target_size=(224,224))\n",
    "x=image.img_to_array(img)\n",
    "x=x/255\n",
    "x=np.expand_dims(x,axis=0)\n",
    "img_data=preprocess_input(x)\n",
    "model.predict(img_data)\n",
    "a=np.argmax(model.predict(img_data), axis=1)\n",
    "if(a==1):\n",
    "    print(\"Uninfected\")\n",
    "else:\n",
    "    print(\"Infected\")"
   ]
  },
  {
   "cell_type": "code",
   "execution_count": null,
   "id": "a04326c4",
   "metadata": {},
   "outputs": [],
   "source": []
  }
 ],
 "metadata": {
  "kernelspec": {
   "display_name": "Python 3",
   "language": "python",
   "name": "python3"
  },
  "language_info": {
   "codemirror_mode": {
    "name": "ipython",
    "version": 3
   },
   "file_extension": ".py",
   "mimetype": "text/x-python",
   "name": "python",
   "nbconvert_exporter": "python",
   "pygments_lexer": "ipython3",
   "version": "3.9.6"
  }
 },
 "nbformat": 4,
 "nbformat_minor": 5
}
